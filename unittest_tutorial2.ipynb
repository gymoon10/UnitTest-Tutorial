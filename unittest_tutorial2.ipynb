{
 "cells": [
  {
   "cell_type": "code",
   "execution_count": null,
   "id": "95963ac1",
   "metadata": {},
   "outputs": [],
   "source": []
  },
  {
   "cell_type": "markdown",
   "id": "950493c4",
   "metadata": {},
   "source": [
    "**source: https://dentuniverse.tistory.com/entry/TDDPython-unittest-%EC%98%88%EC%A0%9C%EB%A1%9C-%EC%9D%B5%ED%98%80%EB%B3%B4%EA%B8%B03?category=805205**"
   ]
  },
  {
   "cell_type": "markdown",
   "id": "effec63c",
   "metadata": {},
   "source": [
    "### 테스트 대상 모듈"
   ]
  },
  {
   "cell_type": "code",
   "execution_count": 1,
   "id": "5ca98185",
   "metadata": {},
   "outputs": [],
   "source": [
    "import datetime\n",
    "\n",
    "class DateTimeHelper(object):\n",
    "    \"\"\"\n",
    "    기존의 datetime이 주는 형식(2022-03-16 12:36:53.954430)에서 편의성을 위해\n",
    "    날짜, 요일로 분리해주는 모듈입니다.\n",
    "    \"\"\"\n",
    "    def today(self):\n",
    "        \"\"\"\n",
    "        오늘 날짜를 반환합니다.\n",
    "        @returns\n",
    "            2022-03-16 12:36:53.954430\n",
    "        \"\"\"\n",
    "        \n",
    "        return datetime.datetime.now()\n",
    "\n",
    "    def date(self):\n",
    "        \"\"\"\n",
    "        오늘 날짜를 반환합니다. 다만, today함수의 형식과 다른 일/월/년도 형식으로 반환합니다\n",
    "        @returns\n",
    "            16/03/22\n",
    "        \"\"\"\n",
    "        return self.today().strftime(\"%d/%m/%Y\")\n",
    "\n",
    "    def weekday(self):\n",
    "        \"\"\"\n",
    "        오늘 요일을 반환합니다. \n",
    "        @returns\n",
    "            Wednesday\n",
    "        \"\"\"\n",
    "        return self.today().strftime(\"%A\")\n",
    "\n",
    "    def us_to_korea(self,date):\n",
    "        \"\"\"\n",
    "        미국식 날짜(16/03/22) -> 한국식(2022/03/16) 날짜로 변경합니다.\n",
    "        @params\n",
    "            date - 08/12/2016\n",
    "        @returns\n",
    "            2022/03/16\n",
    "        \"\"\"\n",
    "        dd, mm, yy = date.split('/')\n",
    "        date_obj = datetime.date(year=int(yy), month=int(mm), day=int(dd))\n",
    "        return date_obj.strftime(\"%Y/%m/%d\")"
   ]
  },
  {
   "cell_type": "markdown",
   "id": "8564ab56",
   "metadata": {},
   "source": [
    "### test1.py\n",
    "\n",
    "위 모듈에서 us_to_korea 메소드가 정상적으로 동작하는 지 확인\n",
    "\n",
    "**assertEqual(a, b): a와 b가 같은지를 조사한다.**"
   ]
  },
  {
   "cell_type": "code",
   "execution_count": null,
   "id": "1a981683",
   "metadata": {},
   "outputs": [],
   "source": [
    "\"\"\"\n",
    "datetimehelper 모듈 테스터\n",
    "\"\"\"\n",
    "import unittest\n",
    "import datetimehelper\n",
    "\n",
    "\n",
    "class DateTimeHelperTestCase(unittest.TestCase):\n",
    "    \"\"\"\n",
    "    Unit Test - testcase class [DateTimeHelper 클래스]\n",
    "    \"\"\"\n",
    "    def setUp(self) -> None:\n",
    "        '''테스트를 위한 사전 설정'''\n",
    "        self.obj = datetimehelper.DateTimeHelper()\n",
    "\n",
    "    \n",
    "    def test_us_korea_conversion(self):\n",
    "        \"\"\"\n",
    "        미국식 날짜 -> 한국식 날짜 변경 테스트\n",
    "        \"\"\"\n",
    "        # 테스트 케이스 생성\n",
    "        d1 = '08/12/2016'\n",
    "        d2 = '24/11/2021'\n",
    "        d3 = '02/02/2019'\n",
    "        d4 = '16/03/2021'\n",
    "        \n",
    "        # 변수 d1에 있는 데이터를 넣었을때 '2016/12/18'의 값이 나와야 통과된다는 뜻이다.\n",
    "        self.assertEqual(self.obj.us_to_korea(d1), '2016/12/08')\n",
    "        self.assertEqual(self.obj.us_to_korea(d2), '2021/11/24')\n",
    "        self.assertEqual(self.obj.us_to_korea(d3), '2019/02/02')\n",
    "        self.assertEqual(self.obj.us_to_korea(d4), '2021/03/16')\n",
    "\n",
    "        \n",
    "# 중요한 부분은 이 포인트다\n",
    "# unittest.main()만 불러주면 코드 내부에서 함수이름 앞에 'test'로 명시되어 있는 부분을\n",
    "# 자동으로 테스트 케이스로 인지하고 실행한다.\n",
    "if __name__ == '__main__':\n",
    "    unittest.main()"
   ]
  },
  {
   "attachments": {
    "image.png": {
     "image/png": "[encoded data removed]"
    }
   },
   "cell_type": "markdown",
   "id": "30e31ae6",
   "metadata": {},
   "source": [
    "![image.png](attachment:image.png)"
   ]
  },
  {
   "cell_type": "markdown",
   "id": "73737b6a",
   "metadata": {},
   "source": [
    "### test2.py\n",
    "\n",
    "**unittest.mock을 통해 외부 라이브러리 의존성 줄이기**\n",
    "\n",
    "- DateTimeHelper의 today, date 메소드는 현재 유저가 원하는 테스트 케이스를 만들어서 테스트 할 수 없는 상태 (현재의 시간대에 대해서만 수행 가능)\n",
    "\n",
    "**mock**\n",
    "\n",
    "- 메소드를 패치하는 모의 객체\n",
    "\n",
    "- 외부 서비스/라이브러리에 의존하지 않고 독립적으로 실행이 가능한 단위 테스트를 가능케하는 테스팅 기법"
   ]
  },
  {
   "cell_type": "code",
   "execution_count": null,
   "id": "9ee3df1b",
   "metadata": {},
   "outputs": [],
   "source": [
    "\"\"\"\n",
    "datetimehelper 모듈 테스터\n",
    "\"\"\"\n",
    "import datetime\n",
    "import unittest\n",
    "from unittest.mock import patch\n",
    "import datetimehelper\n",
    "\n",
    "\n",
    "class DateTimeHelperTestCase(unittest.TestCase):\n",
    "    \"\"\"\n",
    "    Unit Test - testcase class [DateTimeHelper 클래스]\n",
    "    \"\"\"\n",
    "    def setUp(self) -> None:\n",
    "        self.obj = datetimehelper.DateTimeHelper()\n",
    "\n",
    "    def test_us_korea_conversion(self):\n",
    "        \"\"\"\n",
    "        미국식 날짜 -> 한국식 날짜 변경 테스트\n",
    "        \"\"\"\n",
    "        # 테스트 케이스 생성\n",
    "        d1 = '08/12/2016'\n",
    "        d2 = '24/11/2021'\n",
    "        d3 = '02/02/2019'\n",
    "        d4 = '16/03/2021'\n",
    "        self.assertEqual(self.obj.us_to_korea(d1), '2016/12/08')\n",
    "        self.assertEqual(self.obj.us_to_korea(d2), '2021/11/24')\n",
    "        self.assertEqual(self.obj.us_to_korea(d3), '2019/02/02')\n",
    "        self.assertEqual(self.obj.us_to_korea(d4), '2021/03/16')\n",
    "    \n",
    "    def test_date(self):\n",
    "        \"\"\"\n",
    "        datetimehelper.py > today() 메소드 테스트\n",
    "        DateTimeHelper의 today 메서드가 호출될 때 유저가 설정한 test_data값을 반환하도록 가짜 메서드를 설정\n",
    "        \"\"\"\n",
    "\n",
    "        # 테스트를 위한 날짜를 지정해서 만들어줍니다.\n",
    "        test_date = datetime.datetime(year=2022,month=2,day=10)\n",
    "\n",
    "        # patch를 통해 today() 메소드에 내가 지정한 날짜를 넣고 테스를 진행합니다.\n",
    "        #                   객체, 객채의 메소드 명,   테스트용 데이터 \n",
    "        with patch.object(self.obj, 'today', return_value=test_date):\n",
    "            response = self.obj.date()\n",
    "            self.assertEqual(response, '10/02/2022')\n",
    "            \n",
    "    def test_weekday(self):\n",
    "        \"\"\"\n",
    "        datetimehelper.py > weekday() 메소드 테스트\n",
    "        \"\"\"\n",
    "        \n",
    "        # 테스트를 위한 날짜를 지정해서 만들어줍니다.\n",
    "        test_date = datetime.datetime(year=2022,month=2,day=10)\n",
    "\n",
    "        # self.obj = datetimehelper.DateTimeHelper()에 있는 today메소드에 테스트를 원하는 데이터를 넣고 테스트를 진행합니다.\n",
    "        with patch.object(self.obj, 'today', return_value=test_date):\n",
    "            response = self.obj.weekday()\n",
    "            self.assertEqual(response, 'Thursday')\n",
    "\n",
    "    \n",
    "if __name__ == '__main__':\n",
    "    unittest.main()"
   ]
  },
  {
   "attachments": {
    "image.png": {
     "image/png": "[encoded data removed]"
    }
   },
   "cell_type": "markdown",
   "id": "b53343a8",
   "metadata": {},
   "source": [
    "![image.png](attachment:image.png)"
   ]
  },
  {
   "cell_type": "markdown",
   "id": "d9ad603f",
   "metadata": {},
   "source": [
    "### test3.py\n",
    "\n",
    "print()를 이용한 unittest 디버깅\n",
    "\n",
    "- **setUp()** - TestCase클래스의 매 테스트 메소드가 실행하기 전 동작\n",
    "\n",
    "- **tearDown()** - 매 테스트 메소드가 실행 후 동작"
   ]
  },
  {
   "cell_type": "code",
   "execution_count": null,
   "id": "ecac8e6c",
   "metadata": {},
   "outputs": [],
   "source": [
    "\"\"\"\n",
    "datetimehelper 모듈 테스터\n",
    "\"\"\"\n",
    "import datetime\n",
    "import unittest\n",
    "from unittest.mock import patch\n",
    "import datetimehelper\n",
    "class DateTimeHelperTestCase(unittest.TestCase):\n",
    "    \"\"\"\n",
    "    Unit Test - testcase class [DateTimeHelper 클래스]\n",
    "    \"\"\"\n",
    "\n",
    "    # 전역 변수 선언 => tearDown() 디버깅 용\n",
    "    response = \"tearDown디버깅\"\n",
    "\n",
    "    # 매 테스트 메소드 실행 전 동작 __init__과 같은 역할을 한다고 볼 수 있다.\n",
    "    def setUp(self) -> None:\n",
    "        self.obj = datetimehelper.DateTimeHelper()\n",
    "\n",
    "    \n",
    "    def test_us_korea_conversion(self):\n",
    "        \"\"\"\n",
    "        미국식 날짜 -> 한국식 날짜 변경 테스트\n",
    "        \"\"\"\n",
    "        # 테스트 케이스 생성\n",
    "        d1 = '08/12/2016'\n",
    "        d2 = '24/11/2021'\n",
    "        d3 = '02/02/2019'\n",
    "        d4 = '16/03/2021'\n",
    "\n",
    "        self.response = self.obj.us_to_korea(d1)\n",
    "        \n",
    "        self.assertEqual(self.obj.us_to_korea(d1), '2016/12/08')\n",
    "        self.assertEqual(self.obj.us_to_korea(d2), '2021/11/24')\n",
    "        self.assertEqual(self.obj.us_to_korea(d3), '2019/02/02')\n",
    "        self.assertEqual(self.obj.us_to_korea(d4), '2021/03/16')\n",
    "        \n",
    "    def test_date(self):\n",
    "        \"\"\"\n",
    "        datetimehelper.py > today() 메소드 테스트\n",
    "        \"\"\"\n",
    "\n",
    "        # 테스트를 위한 날짜를 지정해서 만들어줍니다.\n",
    "        test_date = datetime.datetime(year=2022,month=2,day=10)\n",
    "\n",
    "        # patch를 통해 today() 메소드에 내가 지정한 날짜를 넣고 테스를 진행합니다.\n",
    "        #                   객체, 객채의 메소드 명,   테스트용 데이터 \n",
    "        with patch.object(self.obj, 'today', return_value=test_date):\n",
    "            self.response = self.obj.date()\n",
    "            self.assertEqual(self.response, '10/02/2022')\n",
    "    \n",
    "    def test_weekday(self):\n",
    "        \"\"\"\n",
    "        datetimehelper.py > weekday() 메소드 테스트\n",
    "        \"\"\"\n",
    "\n",
    "        # 테스트를 위한 날짜를 지정해서 만들어줍니다.\n",
    "        test_date = datetime.datetime(year=2022,month=2,day=10)\n",
    "\n",
    "        # self.obj = datetimehelper.DateTimeHelper()에 있는 today메소드에 테스트를 원하는 데이터를 넣고 테스트를 진행합니다.\n",
    "        with patch.object(self.obj, 'today', return_value=test_date):\n",
    "            self.response = self.obj.weekday()\n",
    "            self.assertEqual(self.response, 'Thursday')\n",
    "\n",
    "    # 매 테스트 메소드 실행 후 동작 디버깅\n",
    "    def tearDown(self) -> None:\n",
    "        '''test_us_korea_conversion, test_date, test_weekday 3가지 테스트에서 사용되는 response값들을 출력'''\n",
    "        print('결과 : ' + self.response)\n",
    "    \n",
    "if __name__ == '__main__':\n",
    "    unittest.main()"
   ]
  },
  {
   "attachments": {
    "image.png": {
     "image/png": "[encoded data removed]"
    }
   },
   "cell_type": "markdown",
   "id": "c7426cbf",
   "metadata": {},
   "source": [
    "![image.png](attachment:image.png)"
   ]
  },
  {
   "cell_type": "code",
   "execution_count": null,
   "id": "0413a01f",
   "metadata": {},
   "outputs": [],
   "source": []
  }
 ],
 "metadata": {
  "kernelspec": {
   "display_name": "dev_tcr_jupyter",
   "language": "python",
   "name": "dev_tcr"
  },
  "language_info": {
   "codemirror_mode": {
    "name": "ipython",
    "version": 3
   },
   "file_extension": ".py",
   "mimetype": "text/x-python",
   "name": "python",
   "nbconvert_exporter": "python",
   "pygments_lexer": "ipython3",
   "version": "3.10.13"
  }
 },
 "nbformat": 4,
 "nbformat_minor": 5
}
